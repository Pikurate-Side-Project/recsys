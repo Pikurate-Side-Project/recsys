{
 "cells": [
  {
   "cell_type": "code",
   "execution_count": 1,
   "metadata": {},
   "outputs": [],
   "source": [
    "import os"
   ]
  },
  {
   "cell_type": "code",
   "execution_count": 8,
   "metadata": {},
   "outputs": [
    {
     "data": {
      "text/plain": [
       "[{'name': 'c20.d2500.pkl', 'date': '20211020', 'k': '20', 'd': '2500'},\n",
       " {'name': 'c20.d2000.pkl', 'date': '20211020', 'k': '20', 'd': '2000'},\n",
       " {'name': 'c20.d1500.pkl', 'date': '20211019', 'k': '20', 'd': '1500'}]"
      ]
     },
     "execution_count": 8,
     "metadata": {},
     "output_type": "execute_result"
    }
   ],
   "source": [
    "info = []\n",
    "\n",
    "date_dir = os.listdir('./mod')\n",
    "for date in date_dir:\n",
    "    model_files = os.listdir(os.path.join('./mod', date))\n",
    "    for model in model_files:\n",
    "        info.append({'name': model, 'date': date, 'k': model.split('.')[0].replace('c', ''), 'd': model.split('.')[1].replace('d', '')})\n",
    "\n",
    "info\n"
   ]
  },
  {
   "cell_type": "code",
   "execution_count": 12,
   "metadata": {},
   "outputs": [
    {
     "data": {
      "text/plain": [
       "[('Python', 'SL'),\n",
       " ('is', 'SL'),\n",
       " ('the', 'SL'),\n",
       " ('most', 'SL'),\n",
       " ('useful', 'SL'),\n",
       " ('lang', 'SL'),\n",
       " ('in', 'SL'),\n",
       " ('the', 'SL'),\n",
       " ('world', 'SL'),\n",
       " ('.', 'SF')]"
      ]
     },
     "execution_count": 12,
     "metadata": {},
     "output_type": "execute_result"
    }
   ],
   "source": [
    "mecab.pos(test_sentences[1])"
   ]
  },
  {
   "cell_type": "code",
   "execution_count": null,
   "metadata": {},
   "outputs": [],
   "source": []
  }
 ],
 "metadata": {
  "interpreter": {
   "hash": "f70198ab6b25b51d4ad1ef0b5d1caadbcf98f69e8c063257b8d65c25d4dd6e33"
  },
  "kernelspec": {
   "display_name": "Python 3.7.11 64-bit ('tokenizer': conda)",
   "name": "python3"
  },
  "language_info": {
   "codemirror_mode": {
    "name": "ipython",
    "version": 3
   },
   "file_extension": ".py",
   "mimetype": "text/x-python",
   "name": "python",
   "nbconvert_exporter": "python",
   "pygments_lexer": "ipython3",
   "version": "3.7.11"
  },
  "orig_nbformat": 4
 },
 "nbformat": 4,
 "nbformat_minor": 2
}
